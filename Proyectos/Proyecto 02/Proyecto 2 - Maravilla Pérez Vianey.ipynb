{
 "cells": [
  {
   "cell_type": "markdown",
   "id": "76ffc120",
   "metadata": {},
   "source": [
    "# Sistemas de Información Geográfica\n",
    "**Instrucciones:** Programa en Python que permita leer este archivo CSV para convertir las coordenadas que están en grados minutos y segundos a coordenadas grados decimal y generar como archivo de salida un archivo shapefile."
   ]
  },
  {
   "cell_type": "code",
   "execution_count": null,
   "id": "d380a4ef",
   "metadata": {},
   "outputs": [],
   "source": [
    "pip install geopandas"
   ]
  },
  {
   "cell_type": "code",
   "execution_count": null,
   "id": "0a0e5c49",
   "metadata": {},
   "outputs": [],
   "source": [
    "import geopandas as gpd\n",
    "import pandas as pd\n",
    "import csv\n",
    "import re"
   ]
  },
  {
   "cell_type": "code",
   "execution_count": null,
   "id": "4ff20b96",
   "metadata": {},
   "outputs": [],
   "source": [
    "#Importamos el archivo csv de las coordenadas\n",
    "df = pd.read_csv('Coordenadas GMS.csv')\n",
    "df.head()"
   ]
  },
  {
   "cell_type": "code",
   "execution_count": null,
   "id": "1ca758a3",
   "metadata": {},
   "outputs": [],
   "source": [
    "#Verificamos si tiene valores nulos\n",
    "df.isnull().sum()"
   ]
  },
  {
   "cell_type": "code",
   "execution_count": null,
   "id": "7bea3ca5",
   "metadata": {},
   "outputs": [],
   "source": [
    "#Eliminamos todos los valores nulos y verificamos que ya no existan\n",
    "df = df.dropna()\n",
    "df.isnull().sum()"
   ]
  },
  {
   "cell_type": "code",
   "execution_count": null,
   "id": "7e502bb8",
   "metadata": {},
   "outputs": [],
   "source": [
    "#Guardar el nuevo archivo csv\n",
    "df.to_csv(\"CoordenadasGMS.csv\", index=False)"
   ]
  },
  {
   "cell_type": "code",
   "execution_count": null,
   "id": "c64780d4",
   "metadata": {},
   "outputs": [],
   "source": [
    "#Definir la función para convertir las coordenadas de GMS a decimal\n",
    "def convertir_coordenadas(coord):\n",
    "    grados = int(coord[:coord.find('o')])\n",
    "    minutos = int(coord[coord.find('o')+2:coord.find('\\'')])\n",
    "    segundos = float(coord[coord.find('\\'')+2:coord.find('\"')])\n",
    "    decimal = grados + minutos/60 + segundos/3600\n",
    "    return decimal"
   ]
  },
  {
   "cell_type": "code",
   "execution_count": null,
   "id": "b6b0ea66",
   "metadata": {},
   "outputs": [],
   "source": [
    "# Obtener las nuevas coordenadas decimales\n",
    "df['lat_decimal'] = df['lat GMS'].apply(convertir_coordenadas)\n",
    "df['lon_decimal'] = df['lon GMS'].apply(convertir_coordenadas)\n",
    "df.loc[df['lat GMS'].str.contains('S'), 'lat_decimal'] *= -1\n",
    "df.loc[df['lon GMS'].str.contains('O'), 'lon_decimal'] *= -1"
   ]
  },
  {
   "cell_type": "code",
   "execution_count": null,
   "id": "017e9a6a",
   "metadata": {},
   "outputs": [],
   "source": [
    "#Visualizamos las coordenadas\n",
    "df"
   ]
  },
  {
   "cell_type": "code",
   "execution_count": null,
   "id": "c4e41419",
   "metadata": {},
   "outputs": [],
   "source": [
    "#Convertir el DataFrame a un GeoDataFrame utilizando las columnas de longitud y latitud decimales\n",
    "gdf = gpd.GeoDataFrame(df, geometry=gpd.points_from_xy(df.lon_decimal, df.lat_decimal))#"
   ]
  },
  {
   "cell_type": "code",
   "execution_count": null,
   "id": "0dbecaaf",
   "metadata": {},
   "outputs": [],
   "source": [
    "gdf"
   ]
  },
  {
   "cell_type": "code",
   "execution_count": null,
   "id": "c1e2cc12",
   "metadata": {},
   "outputs": [],
   "source": [
    "# Guarda el archivo shapefile\n",
    "gdf.to_file('Punto WiFi CDMX.shp', driver='ESRI Shapefile')"
   ]
  },
  {
   "cell_type": "code",
   "execution_count": null,
   "id": "9a1bad1a",
   "metadata": {},
   "outputs": [],
   "source": []
  }
 ],
 "metadata": {
  "kernelspec": {
   "display_name": "Python 3 (ipykernel)",
   "language": "python",
   "name": "python3"
  },
  "language_info": {
   "codemirror_mode": {
    "name": "ipython",
    "version": 3
   },
   "file_extension": ".py",
   "mimetype": "text/x-python",
   "name": "python",
   "nbconvert_exporter": "python",
   "pygments_lexer": "ipython3",
   "version": "3.9.12"
  }
 },
 "nbformat": 4,
 "nbformat_minor": 5
}
